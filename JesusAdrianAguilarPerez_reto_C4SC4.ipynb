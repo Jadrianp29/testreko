{
  "nbformat": 4,
  "nbformat_minor": 0,
  "metadata": {
    "colab": {
      "provenance": [],
      "authorship_tag": "ABX9TyMERA0rnPR/CBYBul6Jdm0P",
      "include_colab_link": true
    },
    "kernelspec": {
      "name": "python3",
      "display_name": "Python 3"
    },
    "language_info": {
      "name": "python"
    }
  },
  "cells": [
    {
      "cell_type": "markdown",
      "metadata": {
        "id": "view-in-github",
        "colab_type": "text"
      },
      "source": [
        "<a href=\"https://colab.research.google.com/github/Jadrianp29/testreko/blob/main/JesusAdrianAguilarPerez_reto_C4SC4.ipynb\" target=\"_parent\"><img src=\"https://colab.research.google.com/assets/colab-badge.svg\" alt=\"Open In Colab\"/></a>"
      ]
    },
    {
      "cell_type": "code",
      "execution_count": 2,
      "metadata": {
        "id": "XqS0bqYnA2lk"
      },
      "outputs": [],
      "source": [
        "import pandas as pd\n",
        "import numpy as np\n",
        "import matplotlib.pyplot as plt\n",
        "import seaborn as sns\n"
      ]
    },
    {
      "cell_type": "markdown",
      "source": [
        "1.\tAnaliza la base de datos del documento employee_data.csv e identifica únicamente los siguientes puntos:"
      ],
      "metadata": {
        "id": "Ux4BTr71gSFB"
      }
    },
    {
      "cell_type": "code",
      "source": [
        "employeedt= pd.read_csv('/content/Employee_data.csv')"
      ],
      "metadata": {
        "id": "Vidj1uGSdb4F"
      },
      "execution_count": 3,
      "outputs": []
    },
    {
      "cell_type": "code",
      "source": [
        "employeest1 = employeedt[['name_employee', 'birth_date', 'age', 'gender', 'marital_status',\n",
        "                          'hiring_date', 'position', 'salary', 'performance_score',\n",
        "                          'last_performance_date', 'average_work_hours',\n",
        "                          'satisfaction_level', 'absences']]\n"
      ],
      "metadata": {
        "id": "npaFXy7AdnRZ"
      },
      "execution_count": 8,
      "outputs": []
    },
    {
      "cell_type": "code",
      "source": [],
      "metadata": {
        "id": "_FkdSbPyiwNW"
      },
      "execution_count": null,
      "outputs": []
    }
  ]
}